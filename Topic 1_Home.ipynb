{
  "nbformat": 4,
  "nbformat_minor": 0,
  "metadata": {
    "colab": {
      "name": "Theme_1_Homework",
      "provenance": []
    },
    "kernelspec": {
      "name": "python3",
      "display_name": "Python 3"
    },
    "language_info": {
      "name": "python"
    }
  },
  "cells": [
    {
      "cell_type": "markdown",
      "metadata": {
        "id": "z4w4Msm1jfoV"
      },
      "source": [
        "**Домашнее задание**\n",
        "\n",
        "Создайте программу, обучающую простую нейронную сеть с одним скрытым слоем распознавать цифры на базе изображений MNIST.\n",
        "\n",
        "*   Для загрузки данных используйте модуль tensorflow.keras.datasets.mnist. Убедитесь, что загруженная база сохраняется в каталоге скрипта (см. документацию к функции load_data()). \n",
        "*   Модель сети должна иметь тип Sequential и состоять из трёх слоев: входного слоя типа Flatten (так как входные данные - изображения), двух скрытых слоёв типа Dense(размер слоя 32 и функция активации relu) и выходного слоя типа Dense(10 нейронов, без функции активации).\n",
        "*   При компиляции модели укажите тип оптимизатора 'adam', функцию потерь SparseCategoricalCrossentropy и метрику точности ('accuracy').\n",
        "*   Обучите сеть методом .fit() в течении 10 эпох, затем оцените точность работы сети на обучающей и контрольной методом .evaluate().\n",
        "*   Сохраните обученную сеть методом .save() в файл с расширением .h5.\n"
      ]
    },
    {
      "cell_type": "code",
      "metadata": {
        "id": "ZTioBd3sjaom"
      },
      "source": [
        ""
      ],
      "execution_count": null,
      "outputs": []
    }
  ]
}