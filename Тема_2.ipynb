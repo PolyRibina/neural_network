{
  "nbformat": 4,
  "nbformat_minor": 0,
  "metadata": {
    "colab": {
      "name": "Тема 2 Лекция",
      "provenance": [],
      "collapsed_sections": []
    },
    "kernelspec": {
      "name": "python3",
      "display_name": "Python 3"
    },
    "language_info": {
      "name": "python"
    },
    "widgets": {
      "application/vnd.jupyter.widget-state+json": {
        "cc3f64ffdcfc45f3bc7ad7802879cf79": {
          "model_module": "@jupyter-widgets/controls",
          "model_name": "HBoxModel",
          "state": {
            "_view_name": "HBoxView",
            "_dom_classes": [],
            "_model_name": "HBoxModel",
            "_view_module": "@jupyter-widgets/controls",
            "_model_module_version": "1.5.0",
            "_view_count": null,
            "_view_module_version": "1.5.0",
            "box_style": "",
            "layout": "IPY_MODEL_17cebf5917fa4a2ab602de194c727178",
            "_model_module": "@jupyter-widgets/controls",
            "children": [
              "IPY_MODEL_defdacfe129e45b8849f8692f76e3dec",
              "IPY_MODEL_2080f34893c744f7b72c37916cf3bf15"
            ]
          }
        },
        "17cebf5917fa4a2ab602de194c727178": {
          "model_module": "@jupyter-widgets/base",
          "model_name": "LayoutModel",
          "state": {
            "_view_name": "LayoutView",
            "grid_template_rows": null,
            "right": null,
            "justify_content": null,
            "_view_module": "@jupyter-widgets/base",
            "overflow": null,
            "_model_module_version": "1.2.0",
            "_view_count": null,
            "flex_flow": null,
            "width": null,
            "min_width": null,
            "border": null,
            "align_items": null,
            "bottom": null,
            "_model_module": "@jupyter-widgets/base",
            "top": null,
            "grid_column": null,
            "overflow_y": null,
            "overflow_x": null,
            "grid_auto_flow": null,
            "grid_area": null,
            "grid_template_columns": null,
            "flex": null,
            "_model_name": "LayoutModel",
            "justify_items": null,
            "grid_row": null,
            "max_height": null,
            "align_content": null,
            "visibility": null,
            "align_self": null,
            "height": null,
            "min_height": null,
            "padding": null,
            "grid_auto_rows": null,
            "grid_gap": null,
            "max_width": null,
            "order": null,
            "_view_module_version": "1.2.0",
            "grid_template_areas": null,
            "object_position": null,
            "object_fit": null,
            "grid_auto_columns": null,
            "margin": null,
            "display": null,
            "left": null
          }
        },
        "defdacfe129e45b8849f8692f76e3dec": {
          "model_module": "@jupyter-widgets/controls",
          "model_name": "FloatProgressModel",
          "state": {
            "_view_name": "ProgressView",
            "style": "IPY_MODEL_750716fbb1ca40e08ae4b117808e709d",
            "_dom_classes": [],
            "description": "Dl Completed...: 100%",
            "_model_name": "FloatProgressModel",
            "bar_style": "success",
            "max": 4,
            "_view_module": "@jupyter-widgets/controls",
            "_model_module_version": "1.5.0",
            "value": 4,
            "_view_count": null,
            "_view_module_version": "1.5.0",
            "orientation": "horizontal",
            "min": 0,
            "description_tooltip": null,
            "_model_module": "@jupyter-widgets/controls",
            "layout": "IPY_MODEL_1a861b0b58e34109a9638590ead1c46a"
          }
        },
        "2080f34893c744f7b72c37916cf3bf15": {
          "model_module": "@jupyter-widgets/controls",
          "model_name": "HTMLModel",
          "state": {
            "_view_name": "HTMLView",
            "style": "IPY_MODEL_256a1b248a8e42478018b6b99d331ceb",
            "_dom_classes": [],
            "description": "",
            "_model_name": "HTMLModel",
            "placeholder": "​",
            "_view_module": "@jupyter-widgets/controls",
            "_model_module_version": "1.5.0",
            "value": " 4/4 [00:00&lt;00:00,  4.59 file/s]",
            "_view_count": null,
            "_view_module_version": "1.5.0",
            "description_tooltip": null,
            "_model_module": "@jupyter-widgets/controls",
            "layout": "IPY_MODEL_7b4f7c851390406b8e62faaac004f4f6"
          }
        },
        "750716fbb1ca40e08ae4b117808e709d": {
          "model_module": "@jupyter-widgets/controls",
          "model_name": "ProgressStyleModel",
          "state": {
            "_view_name": "StyleView",
            "_model_name": "ProgressStyleModel",
            "description_width": "initial",
            "_view_module": "@jupyter-widgets/base",
            "_model_module_version": "1.5.0",
            "_view_count": null,
            "_view_module_version": "1.2.0",
            "bar_color": null,
            "_model_module": "@jupyter-widgets/controls"
          }
        },
        "1a861b0b58e34109a9638590ead1c46a": {
          "model_module": "@jupyter-widgets/base",
          "model_name": "LayoutModel",
          "state": {
            "_view_name": "LayoutView",
            "grid_template_rows": null,
            "right": null,
            "justify_content": null,
            "_view_module": "@jupyter-widgets/base",
            "overflow": null,
            "_model_module_version": "1.2.0",
            "_view_count": null,
            "flex_flow": null,
            "width": null,
            "min_width": null,
            "border": null,
            "align_items": null,
            "bottom": null,
            "_model_module": "@jupyter-widgets/base",
            "top": null,
            "grid_column": null,
            "overflow_y": null,
            "overflow_x": null,
            "grid_auto_flow": null,
            "grid_area": null,
            "grid_template_columns": null,
            "flex": null,
            "_model_name": "LayoutModel",
            "justify_items": null,
            "grid_row": null,
            "max_height": null,
            "align_content": null,
            "visibility": null,
            "align_self": null,
            "height": null,
            "min_height": null,
            "padding": null,
            "grid_auto_rows": null,
            "grid_gap": null,
            "max_width": null,
            "order": null,
            "_view_module_version": "1.2.0",
            "grid_template_areas": null,
            "object_position": null,
            "object_fit": null,
            "grid_auto_columns": null,
            "margin": null,
            "display": null,
            "left": null
          }
        },
        "256a1b248a8e42478018b6b99d331ceb": {
          "model_module": "@jupyter-widgets/controls",
          "model_name": "DescriptionStyleModel",
          "state": {
            "_view_name": "StyleView",
            "_model_name": "DescriptionStyleModel",
            "description_width": "",
            "_view_module": "@jupyter-widgets/base",
            "_model_module_version": "1.5.0",
            "_view_count": null,
            "_view_module_version": "1.2.0",
            "_model_module": "@jupyter-widgets/controls"
          }
        },
        "7b4f7c851390406b8e62faaac004f4f6": {
          "model_module": "@jupyter-widgets/base",
          "model_name": "LayoutModel",
          "state": {
            "_view_name": "LayoutView",
            "grid_template_rows": null,
            "right": null,
            "justify_content": null,
            "_view_module": "@jupyter-widgets/base",
            "overflow": null,
            "_model_module_version": "1.2.0",
            "_view_count": null,
            "flex_flow": null,
            "width": null,
            "min_width": null,
            "border": null,
            "align_items": null,
            "bottom": null,
            "_model_module": "@jupyter-widgets/base",
            "top": null,
            "grid_column": null,
            "overflow_y": null,
            "overflow_x": null,
            "grid_auto_flow": null,
            "grid_area": null,
            "grid_template_columns": null,
            "flex": null,
            "_model_name": "LayoutModel",
            "justify_items": null,
            "grid_row": null,
            "max_height": null,
            "align_content": null,
            "visibility": null,
            "align_self": null,
            "height": null,
            "min_height": null,
            "padding": null,
            "grid_auto_rows": null,
            "grid_gap": null,
            "max_width": null,
            "order": null,
            "_view_module_version": "1.2.0",
            "grid_template_areas": null,
            "object_position": null,
            "object_fit": null,
            "grid_auto_columns": null,
            "margin": null,
            "display": null,
            "left": null
          }
        }
      }
    }
  },
  "cells": [
    {
      "cell_type": "markdown",
      "metadata": {
        "id": "Nd5UZTDDsy2X"
      },
      "source": [
        "При проектировании нейросетей часто используют различные модели для улучшения качества метрик. Чтобы применить модель, необходимо предварительно затратить существенные ресурсы на обработку всего массива необработанных данных. Инструмент Pipeline позволяет объединить несколько операций обработки данных в единую модель библиотеки Python «Scikit-learn»."
      ]
    },
    {
      "cell_type": "markdown",
      "metadata": {
        "id": "yc82t0JdwSEm"
      },
      "source": [
        "Для изучения представленного инструмента, рассмотрим следующий набор программ. Данный блок загружает необходимые библиотеки для создания и работы с нейросетями и базами изображений, а также для рисования информативных графиков и продвинутых методов работы с данными."
      ]
    },
    {
      "cell_type": "code",
      "metadata": {
        "id": "KXdNxYqmwHnG"
      },
      "source": [
        "import os\n",
        "import sys\n",
        "\n",
        "import numpy\n",
        "\n",
        "os.environ['TF_CPP_MIN_LOG_LEVEL'] = '2'\n",
        "import tensorflow as tf\n",
        "import tensorflow_datasets as tf_ds\n",
        "import matplotlib.pyplot as plt"
      ],
      "execution_count": null,
      "outputs": []
    },
    {
      "cell_type": "markdown",
      "metadata": {
        "id": "qQnJYg_BxjIm"
      },
      "source": [
        "Как и на прошлом занятии, мы будем использовать базу изображений MNIST. Также программно создадим все промежуточные каталоги для набора данных, если они (каталоги) не существуют."
      ]
    },
    {
      "cell_type": "markdown",
      "metadata": {
        "id": "EVzR7TgAx29P"
      },
      "source": [
        "Произведем загрузку данных. Представленные параметры обозначают соответственно: имя набора данных, какие части набора данных загружать, правило для больших наборов данных, правило для возвращения пары изображение-метка, описание набора данных."
      ]
    },
    {
      "cell_type": "code",
      "metadata": {
        "id": "gou2ojIbybZ2",
        "colab": {
          "base_uri": "https://localhost:8080/",
          "height": 208,
          "referenced_widgets": [
            "cc3f64ffdcfc45f3bc7ad7802879cf79",
            "17cebf5917fa4a2ab602de194c727178",
            "defdacfe129e45b8849f8692f76e3dec",
            "2080f34893c744f7b72c37916cf3bf15",
            "750716fbb1ca40e08ae4b117808e709d",
            "1a861b0b58e34109a9638590ead1c46a",
            "256a1b248a8e42478018b6b99d331ceb",
            "7b4f7c851390406b8e62faaac004f4f6"
          ]
        },
        "outputId": "de70167d-2ffd-4c6c-a5cd-a3d051280100"
      },
      "source": [
        "dataset_path = os.path.join(os.path.dirname(sys.argv[0]), 'mnist')\n",
        "os.makedirs(dataset_path, exist_ok=True)\n",
        "\n",
        "(ds_train, ds_test), ds_info = tf_ds.load(\n",
        "    'mnist',\n",
        "    split=['train', 'test'],\n",
        "    shuffle_files=True,\n",
        "    as_supervised=True,\n",
        "    with_info=True\n",
        ")"
      ],
      "execution_count": null,
      "outputs": [
        {
          "output_type": "stream",
          "text": [
            "\u001b[1mDownloading and preparing dataset mnist/3.0.1 (download: 11.06 MiB, generated: 21.00 MiB, total: 32.06 MiB) to /root/tensorflow_datasets/mnist/3.0.1...\u001b[0m\n"
          ],
          "name": "stdout"
        },
        {
          "output_type": "stream",
          "text": [
            "WARNING:absl:Dataset mnist is hosted on GCS. It will automatically be downloaded to your\n",
            "local data directory. If you'd instead prefer to read directly from our public\n",
            "GCS bucket (recommended if you're running on GCP), you can instead pass\n",
            "`try_gcs=True` to `tfds.load` or set `data_dir=gs://tfds-data/datasets`.\n",
            "\n"
          ],
          "name": "stderr"
        },
        {
          "output_type": "display_data",
          "data": {
            "application/vnd.jupyter.widget-view+json": {
              "model_id": "cc3f64ffdcfc45f3bc7ad7802879cf79",
              "version_minor": 0,
              "version_major": 2
            },
            "text/plain": [
              "HBox(children=(FloatProgress(value=0.0, description='Dl Completed...', max=4.0, style=ProgressStyle(descriptio…"
            ]
          },
          "metadata": {
            "tags": []
          }
        },
        {
          "output_type": "stream",
          "text": [
            "\n",
            "\n",
            "\u001b[1mDataset mnist downloaded and prepared to /root/tensorflow_datasets/mnist/3.0.1. Subsequent calls will reuse this data.\u001b[0m\n"
          ],
          "name": "stdout"
        }
      ]
    },
    {
      "cell_type": "markdown",
      "metadata": {
        "id": "Madtha0X1iAx"
      },
      "source": [
        "Далее необходимо выполнить несколько действий, которые можно вынести в отдельные функции. Сначала нам нужно нормализовать данные. Это необходимо, потому что мы работаем с данными, для которых достаточно ответа на вопрос “Присутствует ли изображение в клетке или нет”. В нашем случае, база MNIST содержит черно-белые рисунки с различными оттенками серого цвета, которые мы и нормализуем."
      ]
    },
    {
      "cell_type": "markdown",
      "metadata": {
        "id": "cwlRC8cD1lDJ"
      },
      "source": [
        "Затем нам необходимо увеличить эффективность работы нашей нейросети. Для этого воспользуемся инструментами pipeline, или конвейерами. Они объединяют несколько методов оценки данных в один общий, который более эффективен, чем составляющие его оценщики."
      ]
    },
    {
      "cell_type": "markdown",
      "metadata": {
        "id": "hZ6mQU681dUa"
      },
      "source": [
        "Поскольку мы используем тренировочную и тестовую выборки, напишем конвейеры для оценки каждой из выборок. Если Вам интересно описание выполняемых операций, можете вызвать подсказку."
      ]
    },
    {
      "cell_type": "code",
      "metadata": {
        "id": "2sLDrPPDoXPF"
      },
      "source": [
        "def normalize_data(image, label):\n",
        "    return tf.cast(image, tf.float32) / 255.0, label\n",
        "    \n",
        "def train_pipeline(dataset):\n",
        "    dataset = dataset.map(normalize_data, num_parallel_calls=tf.data.experimental.AUTOTUNE)\n",
        "    dataset = dataset.cache()\n",
        "    dataset = dataset.shuffle(ds_info.splits['train'].num_examples)\n",
        "    dataset = dataset.batch(128)\n",
        "    dataset = dataset.prefetch(tf.data.experimental.AUTOTUNE)\n",
        "    return dataset\n",
        "\n",
        "def test_pipeline(dataset):\n",
        "    dataset = dataset.map(normalize_data, num_parallel_calls=tf.data.experimental.AUTOTUNE)\n",
        "    dataset = dataset.batch(128)\n",
        "    dataset = dataset.cache()\n",
        "    dataset = dataset.prefetch(tf.data.experimental.AUTOTUNE)\n",
        "    return dataset"
      ],
      "execution_count": null,
      "outputs": []
    },
    {
      "cell_type": "markdown",
      "metadata": {
        "id": "wgz8pKrg17BZ"
      },
      "source": [
        "После проделанных действий приступим к описанию структуры нейросети и подготовке её к обучению. С данными операциями Вы уже сталкивались на прошлой лекции. Разница заключается лишь в наличии большего количества нейронов во внутренних слоях нейросети."
      ]
    },
    {
      "cell_type": "code",
      "metadata": {
        "id": "78_V25HcpWOc"
      },
      "source": [
        "def configure_network(value_rate):\n",
        "    model = tf.keras.Sequential([\n",
        "        tf.keras.layers.Flatten(input_shape=(28, 28)),\n",
        "        tf.keras.layers.Dense(32, activation='relu'),\n",
        "        tf.keras.layers.Dense(32, activation='relu'),\n",
        "        tf.keras.layers.Dense(10)\n",
        "    ])\n",
        "\n",
        "    model.compile(\n",
        "        optimizer=tf.keras.optimizers.Adam(learning_rate=value_rate),\n",
        "        loss=tf.keras.losses.SparseCategoricalCrossentropy(from_logits=True),\n",
        "        metrics=['accuracy']\n",
        "    )\n",
        "\n",
        "    return model"
      ],
      "execution_count": null,
      "outputs": []
    },
    {
      "cell_type": "markdown",
      "metadata": {
        "id": "3W0Yy7Pi17yA"
      },
      "source": [
        "Затем произведем конфигурирование и обучение нейросети. Для выполнения первого действия вызовем конвейеры, которые мы определили на прошлых этапах. После того как выполнена конфигурирование набора данных, обучим нейросеть и выведем её точность в каждой эпохе."
      ]
    },
    {
      "cell_type": "markdown",
      "metadata": {
        "id": "EjNN2v235t8I"
      },
      "source": [
        "После этого выведем на экран значений потерь в обучающей и контрольной выборке для оценки точности работы нейронной сети."
      ]
    },
    {
      "cell_type": "markdown",
      "metadata": {
        "id": "64pL3IpD5tv5"
      },
      "source": [
        "В конце, сохраним полученные данные в файл и вернем их в программу для дальнейшего анализа."
      ]
    },
    {
      "cell_type": "code",
      "metadata": {
        "id": "7irnBylCpZtB"
      },
      "source": [
        "def learning(model):\n",
        "    ds_train = train_pipeline(train)\n",
        "    ds_test = test_pipeline(test)\n",
        "    history = model.fit(ds_train, epochs=10, verbose=1)\n",
        "    for i, v in enumerate(history.history['accuracy'], 1):\n",
        "        print(f'Epoch {i}: accuracy {v:.1%}')\n",
        "\n",
        "    train_loss, train_acc = model.evaluate(ds_train, verbose=2)\n",
        "    print(f'Accuracy on training images: {train_acc}')\n",
        "    test_loss, test_acc = model.evaluate(ds_test, verbose=2)\n",
        "    print(f'Accuracy on testing images: {test_acc}')\n",
        "\n",
        "    model.save('digits.h5')\n",
        "\n",
        "    return history"
      ],
      "execution_count": null,
      "outputs": []
    },
    {
      "cell_type": "markdown",
      "metadata": {
        "id": "59e58Wg218a4"
      },
      "source": [
        ""
      ]
    },
    {
      "cell_type": "code",
      "metadata": {
        "colab": {
          "base_uri": "https://localhost:8080/",
          "height": 919
        },
        "id": "bJih8WJIpmDF",
        "outputId": "d4e5350c-69cf-4ca5-8caf-c4d4f955cea3"
      },
      "source": [
        "(train, test), ds_info = tf_ds.load(\n",
        "    'mnist',\n",
        "    split=['train', 'test'],\n",
        "    shuffle_files=True,\n",
        "    as_supervised=True,\n",
        "    with_info=True\n",
        ")\n",
        "Epoch = range(1, 11)\n",
        "data = learning(configure_network(1e-2)).history[\"accuracy\"]\n",
        "plt.plot(Epoch, data)\n",
        "plt.scatter(Epoch, data)\n",
        "plt.title(\"Точность эпохи\")\n",
        "plt.ylabel(\"Точность\")\n",
        "plt.xlabel(\"Эпоха\")\n",
        "plt.show()"
      ],
      "execution_count": null,
      "outputs": [
        {
          "output_type": "stream",
          "text": [
            "Epoch 1/10\n",
            "469/469 [==============================] - 6s 2ms/step - loss: 0.2923 - accuracy: 0.9104\n",
            "Epoch 2/10\n",
            "469/469 [==============================] - 1s 2ms/step - loss: 0.1592 - accuracy: 0.9522\n",
            "Epoch 3/10\n",
            "469/469 [==============================] - 1s 2ms/step - loss: 0.1334 - accuracy: 0.9595\n",
            "Epoch 4/10\n",
            "469/469 [==============================] - 1s 2ms/step - loss: 0.1206 - accuracy: 0.9633\n",
            "Epoch 5/10\n",
            "469/469 [==============================] - 1s 2ms/step - loss: 0.1091 - accuracy: 0.9665\n",
            "Epoch 6/10\n",
            "469/469 [==============================] - 1s 2ms/step - loss: 0.1022 - accuracy: 0.9689\n",
            "Epoch 7/10\n",
            "469/469 [==============================] - 1s 2ms/step - loss: 0.0996 - accuracy: 0.9697\n",
            "Epoch 8/10\n",
            "469/469 [==============================] - 1s 2ms/step - loss: 0.0926 - accuracy: 0.9719\n",
            "Epoch 9/10\n",
            "469/469 [==============================] - 1s 2ms/step - loss: 0.0941 - accuracy: 0.9710\n",
            "Epoch 10/10\n",
            "469/469 [==============================] - 1s 2ms/step - loss: 0.0893 - accuracy: 0.9725\n",
            "Epoch 1: accuracy 91.0%\n",
            "Epoch 2: accuracy 95.2%\n",
            "Epoch 3: accuracy 96.0%\n",
            "Epoch 4: accuracy 96.3%\n",
            "Epoch 5: accuracy 96.7%\n",
            "Epoch 6: accuracy 96.9%\n",
            "Epoch 7: accuracy 97.0%\n",
            "Epoch 8: accuracy 97.2%\n",
            "Epoch 9: accuracy 97.1%\n",
            "Epoch 10: accuracy 97.3%\n",
            "469/469 - 1s - loss: 0.0641 - accuracy: 0.9801\n",
            "Accuracy on training images: 0.9800500273704529\n",
            "79/79 - 1s - loss: 0.1482 - accuracy: 0.9641\n",
            "Accuracy on testing images: 0.9641000032424927\n"
          ],
          "name": "stdout"
        },
        {
          "output_type": "display_data",
          "data": {
            "image/png": "[encoded data removed]",
            "text/plain": [
              "<Figure size 432x288 with 1 Axes>"
            ]
          },
          "metadata": {
            "tags": [],
            "needs_background": "light"
          }
        }
      ]
    }
  ]
}